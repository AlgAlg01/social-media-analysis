{
 "cells": [
  {
   "cell_type": "markdown",
   "id": "76ee47d5",
   "metadata": {},
   "source": [
    "## Imports"
   ]
  },
  {
   "cell_type": "code",
   "execution_count": null,
   "id": "b2344f1b",
   "metadata": {},
   "outputs": [],
   "source": [
    "import os\n",
    "from dotenv import load_dotenv\n",
    "import sys\n",
    "\n",
    "# Add src to path. If there are any \n",
    "module_path = os.path.abspath(os.path.join('..'))\n",
    "if module_path not in sys.path:\n",
    "    sys.path.append(module_path)\n",
    "\n",
    "from src import DataFetchers\n",
    "from src import SocialMediaAnalyzers\n"
   ]
  },
  {
   "cell_type": "markdown",
   "id": "1cdf2185",
   "metadata": {},
   "source": [
    "## Loading environment (APIs)"
   ]
  },
  {
   "cell_type": "code",
   "execution_count": null,
   "id": "eb7e6471",
   "metadata": {},
   "outputs": [],
   "source": [
    "# Load Reddit API credentials from environment variables\n",
    "load_dotenv(os.path.join(module_path,'.env')) #for some reason twitter bearer token doesnt work unless i put the path\n",
    "CLIENT_ID = os.getenv('REDDIT_CLIENT_ID')\n",
    "CLIENT_SECRET = os.getenv('REDDIT_CLIENT_SECRET')\n",
    "USER_AGENT = os.getenv('REDDIT_USER_AGENT')\n",
    "BEARER_TOKEN=os.getenv('TWITTER_BEARER_TOKEN')"
   ]
  },
  {
   "cell_type": "markdown",
   "id": "cbdbcdaa",
   "metadata": {},
   "source": [
    "# **Main Script (Reddit)**"
   ]
  },
  {
   "cell_type": "code",
   "execution_count": null,
   "id": "b900b218",
   "metadata": {},
   "outputs": [],
   "source": [
    "subreddit_map = {\n",
    "        'Education': ['education', 'AskAcademia', 'Teachers'],\n",
    "        'Entertainment': ['movies', 'Music', 'gaming', 'television','RugsOnly'],\n",
    "        'Politics': ['politics', 'worldnews', 'PoliticalDiscussion'],\n",
    "        'Technology': ['technology', 'programming', 'technews'],\n",
    "        'Health': ['health', 'mentalhealth', 'nutrition', 'fitness']\n",
    "    }\n",
    "    \n",
    "    # Fetch real Reddit data\n",
    "if CLIENT_ID and CLIENT_SECRET and USER_AGENT:\n",
    "    fetcher = DataFetchers.RedditDataFetcher(CLIENT_ID, CLIENT_SECRET, USER_AGENT)\n",
    "    real_data = fetcher.fetch_posts(subreddit_map, time_filter='month', limit=50)\n",
    "        \n",
    "    if not real_data.empty:\n",
    "        # Analyze the real data\n",
    "        analyzer = SocialMediaAnalyzers.RedditSocialMediaAnalyzer(real_data)\n",
    "            \n",
    "        # Generate visualizations\n",
    "        analyzer.analyze_sector_performance()\n",
    "        analyzer.analyze_topic_performance()\n",
    "        analyzer.analyze_trends()\n",
    "            \n",
    "        # Generate text report\n",
    "        analyzer.generate_report()\n",
    "    else:\n",
    "        print(\"No data fetched. Check your API credentials or subreddit names.\")\n",
    "else:\n",
    "    print(\"Reddit API credentials not found. Please set environment variables:\")\n",
    "    print(\"REDDIT_CLIENT_ID, REDDIT_CLIENT_SECRET, REDDIT_USER_AGENT\")"
   ]
  },
  {
   "cell_type": "markdown",
   "id": "93a65c6e",
   "metadata": {},
   "source": [
    "## **Main Script (Twitter)**"
   ]
  },
  {
   "cell_type": "code",
   "execution_count": null,
   "id": "fcfb8b68",
   "metadata": {},
   "outputs": [],
   "source": [
    "# Define keywords or targets by sector for Twitter\n",
    "keyword_map = {\n",
    "    'Education': ['#education','math','#history','school'],\n",
    "    'Entertainment': ['#movies', '#music', '#gaming', '#television'],\n",
    "    'Politics': ['#politics', '#worldnews', '#politicaldiscussion','inmigration'],\n",
    "    'Technology': ['#technology', '#programming', '#technews','#AI'],\n",
    "    'Health': ['#health', '#mentalhealth', '#nutrition', '#fitness']\n",
    "}\n",
    "\n",
    "# Make sure your Twitter API credentials are set\n",
    "if BEARER_TOKEN:\n",
    "    fetcher = DataFetchers.TwitterDataFetcher(BEARER_TOKEN)  # Assuming you defined this with your Twitter API code\n",
    "    \n",
    "    # Fetch tweets using your keywords per sector, time window, and limit per keyword\n",
    "    #Warning: you will probably get rate limited if you're using free\n",
    "    real_data = fetcher.fetch_tweets(keyword_map, max_results=10)\n",
    "    \n",
    "    if not real_data.empty:\n",
    "        analyzer = SocialMediaAnalyzers.TwitterSocialMediaAnalyzer(real_data)\n",
    "        \n",
    "        # Generate visualizations and reports\n",
    "        analyzer.analyze_sector_performance()\n",
    "        analyzer.analyze_topic_performance()\n",
    "        analyzer.analyze_trends()\n",
    "        analyzer.generate_report()\n",
    "    else:\n",
    "        print(\"No tweets fetched. Check your API credentials or keyword list.\")\n",
    "else:\n",
    "    print(\"Twitter API credentials not found. Please set your BEARER_TOKEN environment variable.\")\n"
   ]
  }
 ],
 "metadata": {
  "kernelspec": {
   "display_name": "Python 3",
   "language": "python",
   "name": "python3"
  },
  "language_info": {
   "codemirror_mode": {
    "name": "ipython",
    "version": 3
   },
   "file_extension": ".py",
   "mimetype": "text/x-python",
   "name": "python",
   "nbconvert_exporter": "python",
   "pygments_lexer": "ipython3",
   "version": "3.13.0"
  }
 },
 "nbformat": 4,
 "nbformat_minor": 5
}
